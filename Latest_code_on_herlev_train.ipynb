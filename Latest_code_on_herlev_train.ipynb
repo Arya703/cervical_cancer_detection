{
  "cells": [
    {
      "cell_type": "markdown",
      "metadata": {
        "id": "view-in-github",
        "colab_type": "text"
      },
      "source": [
        "<a href=\"https://colab.research.google.com/github/Arya703/cervical_cancer_detection/blob/main/Latest_code_on_herlev_train.ipynb\" target=\"_parent\"><img src=\"https://colab.research.google.com/assets/colab-badge.svg\" alt=\"Open In Colab\"/></a>"
      ]
    },
    {
      "cell_type": "code",
      "execution_count": 1,
      "metadata": {
        "id": "I5zN0TTNS0S_"
      },
      "outputs": [],
      "source": [
        "from google.colab import drive"
      ]
    },
    {
      "cell_type": "code",
      "execution_count": 2,
      "metadata": {
        "colab": {
          "base_uri": "https://localhost:8080/"
        },
        "id": "ESQVbw_ITAoQ",
        "outputId": "0103fef7-7eff-4f1b-f636-390339803667"
      },
      "outputs": [
        {
          "output_type": "stream",
          "name": "stdout",
          "text": [
            "Drive already mounted at /content/drive; to attempt to forcibly remount, call drive.mount(\"/content/drive\", force_remount=True).\n"
          ]
        }
      ],
      "source": [
        "drive.mount('/content/drive')"
      ]
    },
    {
      "cell_type": "code",
      "execution_count": 3,
      "metadata": {
        "id": "LDkW80EXTUOg"
      },
      "outputs": [],
      "source": [
        "import numpy as np\n",
        "import os\n",
        "import cv2\n",
        "import matplotlib.pyplot as plt\n",
        "from tensorflow.keras.preprocessing.image import ImageDataGenerator, load_img\n",
        "from tensorflow.keras.layers import Input, Conv2D, MaxPooling2D, UpSampling2D, Concatenate, Activation, Multiply, Add\n",
        "from tensorflow.keras.models import Model\n",
        "from tensorflow.keras import backend as K\n",
        "from sklearn.metrics import confusion_matrix, ConfusionMatrixDisplay\n",
        "from sklearn.preprocessing import LabelEncoder\n",
        "from sklearn.utils import shuffle"
      ]
    },
    {
      "cell_type": "code",
      "execution_count": 4,
      "metadata": {
        "id": "39d3SFlwTX6n"
      },
      "outputs": [],
      "source": [
        "\n",
        "from sklearn.preprocessing import LabelEncoder\n",
        "from sklearn.utils import shuffle\n",
        "\n",
        "def load_data(base_path):\n",
        "    images, labels = [], []\n",
        "    for category in os.listdir(base_path):\n",
        "        folder_path = os.path.join(base_path, category)\n",
        "        for file_name in os.listdir(folder_path):\n",
        "            image = cv2.imread(os.path.join(folder_path, file_name))\n",
        "            image = cv2.resize(image, (128, 128))\n",
        "            images.append(image)\n",
        "            labels.append(category)\n",
        "    return np.array(images), np.array(labels)\n",
        "\n",
        "# Herlev dataset (training)\n",
        "image_path = '/content/drive/MyDrive/Herlev Dataset/train'\n",
        "mask_path='/content/drive/My Drive/Herlev Dataset/train/'\n",
        "X_train, y_train = load_data(image_path)\n",
        "\n",
        "# Encode labels\n",
        "encoder = LabelEncoder()\n",
        "y_train_encoded = encoder.fit_transform(y_train)\n",
        "# Shuffle data\n",
        "X_train, y_train_encoded = shuffle(X_train, y_train_encoded)"
      ]
    },
    {
      "cell_type": "code",
      "source": [
        "# Test dataset path\n",
        "test_image_path = '/content/drive/MyDrive/Herlev Dataset/test'\n",
        "\n",
        "# Load and preprocess test dataset\n",
        "X_test, y_test = load_data(test_image_path)\n",
        "\n",
        "# Encode test labels\n",
        "y_test_encoded = encoder.transform(y_test)  # Ensure to use the same encoder as training\n",
        "\n",
        "# Normalize images (if done for training data)\n",
        "X_test = X_test / 255.0\n"
      ],
      "metadata": {
        "id": "VFpghWL68xir"
      },
      "execution_count": 5,
      "outputs": []
    },
    {
      "cell_type": "code",
      "execution_count": 6,
      "metadata": {
        "colab": {
          "base_uri": "https://localhost:8080/"
        },
        "id": "5gOfBP3XUm1s",
        "outputId": "d572a564-6104-4bf2-d3ff-001657d30647"
      },
      "outputs": [
        {
          "output_type": "stream",
          "name": "stdout",
          "text": [
            "['moderate_dysplastic', 'carcinoma_in_situ', 'severe_dysplastic', 'light_dysplastic', 'normal_intermediate', 'normal_columnar', 'normal_superficiel']\n"
          ]
        }
      ],
      "source": [
        "files = os.listdir(image_path)\n",
        "print(files)"
      ]
    },
    {
      "cell_type": "code",
      "execution_count": 7,
      "metadata": {
        "colab": {
          "base_uri": "https://localhost:8080/"
        },
        "id": "Y1XjE6PQUrHn",
        "outputId": "8a50b931-6c01-4420-f7b9-8ddaa9e87eb0"
      },
      "outputs": [
        {
          "output_type": "execute_result",
          "data": {
            "text/plain": [
              "list"
            ]
          },
          "metadata": {},
          "execution_count": 7
        }
      ],
      "source": [
        "type(files)"
      ]
    },
    {
      "cell_type": "code",
      "execution_count": 8,
      "metadata": {
        "id": "V0Q6M2JHUuc-"
      },
      "outputs": [],
      "source": [
        "def load_img(folder):\n",
        "    images = []\n",
        "    for root, _, filenames in os.walk(folder):\n",
        "        for filename in filenames:\n",
        "            img_path = os.path.join(root, filename)\n",
        "            if os.path.isfile(img_path):\n",
        "                img = cv2.imread(img_path)\n",
        "                if img is not None:\n",
        "                    images.append(img)\n",
        "    return images"
      ]
    },
    {
      "cell_type": "code",
      "execution_count": 9,
      "metadata": {
        "id": "beUk_lmCUzPb"
      },
      "outputs": [],
      "source": [
        "def load_mask(folder):\n",
        "    masks = []\n",
        "    for root, _, filenames in os.walk(folder):\n",
        "        for filename in filenames:\n",
        "            mask_path = os.path.join(root, filename)\n",
        "            if os.path.isfile(mask_path):\n",
        "                mask = cv2.imread(mask_path, cv2.IMREAD_GRAYSCALE)  # Read as grayscale\n",
        "                if mask is not None:\n",
        "                    masks.append(mask)\n",
        "    return masks"
      ]
    },
    {
      "cell_type": "code",
      "execution_count": 10,
      "metadata": {
        "id": "YrZc1bToU4su"
      },
      "outputs": [],
      "source": [
        "images = load_img(image_path)\n",
        "masks=load_mask(mask_path)"
      ]
    },
    {
      "cell_type": "code",
      "execution_count": 11,
      "metadata": {
        "colab": {
          "base_uri": "https://localhost:8080/",
          "height": 85
        },
        "id": "PoyVFwSUVkCz",
        "outputId": "e5abf54d-d5bc-4314-b716-cda2be2e3d71"
      },
      "outputs": [
        {
          "output_type": "display_data",
          "data": {
            "text/plain": [
              "<PIL.Image.Image image mode=RGB size=136x68>"
            ],
            "image/png": "[encoded data removed]",
            "image/jpeg": "[encoded data removed]"
          },
          "metadata": {}
        }
      ],
      "source": [
        "if len(images) > 0:\n",
        "    from google.colab.patches import cv2_imshow\n",
        "    cv2_imshow(images[0])\n",
        "else:\n",
        "    print(\"No images found in the directory.\")"
      ]
    },
    {
      "cell_type": "code",
      "execution_count": 12,
      "metadata": {
        "id": "FARV_GCgVzzM"
      },
      "outputs": [],
      "source": [
        "\n",
        "import tensorflow as tf\n",
        "from tensorflow.keras.preprocessing.image import ImageDataGenerator\n",
        "from tensorflow.keras.applications import ResNet50\n",
        "from tensorflow.keras.layers import Dense, Flatten, GlobalAveragePooling2D, Input, Conv2D, MaxPooling2D, UpSampling2D, Concatenate, Activation, Multiply, Add\n",
        "from tensorflow.keras.models import Model\n",
        "from sklearn.metrics import classification_report, confusion_matrix\n",
        "import matplotlib.pyplot as plt\n",
        "import seaborn as sns"
      ]
    },
    {
      "cell_type": "code",
      "execution_count": 13,
      "metadata": {
        "id": "flBwcQ4xV4iK"
      },
      "outputs": [],
      "source": [
        "\n",
        "\n",
        "# Define data augmentation techniques\n",
        "data_gen_args = ImageDataGenerator(rotation_range=30,\n",
        "                    width_shift_range=0.2,\n",
        "                    height_shift_range=0.2,\n",
        "                    shear_range=0.2,\n",
        "                    zoom_range=0.2,\n",
        "                    horizontal_flip=True,\n",
        "                    fill_mode='nearest', # Add a comma here\n",
        "                    brightness_range=[0.8, 1.2], # Align with other arguments\n",
        "                    preprocessing_function=lambda x: cv2.GaussianBlur(x, (3, 3), 0)) # Align with other arguments\n",
        "\n",
        "\n",
        "train_gen = data_gen_args.flow(X_train, y_train_encoded, batch_size=16) # Change datagen to data_gen_args"
      ]
    },
    {
      "cell_type": "code",
      "execution_count": 14,
      "metadata": {
        "colab": {
          "base_uri": "https://localhost:8080/"
        },
        "id": "rPyREsV9V8f-",
        "outputId": "3d9b8506-2755-4615-ff3b-0eb663e9bbda"
      },
      "outputs": [
        {
          "output_type": "stream",
          "name": "stdout",
          "text": [
            "Found 643 images belonging to 7 classes.\n",
            "Found 643 images belonging to 7 classes.\n",
            "Image shape: (32, 128, 128, 3)\n",
            "Mask shape: (32, 128, 128, 1)\n"
          ]
        }
      ],
      "source": [
        "# Initialize ImageDataGenerators for training images and masks\n",
        "# Instead of get_config, directly pass the arguments\n",
        "image_datagen = ImageDataGenerator(rescale=1./255,\n",
        "                                   rotation_range=data_gen_args.rotation_range,\n",
        "                                   width_shift_range=data_gen_args.width_shift_range,\n",
        "                                   height_shift_range=data_gen_args.height_shift_range,\n",
        "                                   shear_range=data_gen_args.shear_range,\n",
        "                                   zoom_range=data_gen_args.zoom_range,\n",
        "                                   horizontal_flip=data_gen_args.horizontal_flip,\n",
        "                                   fill_mode=data_gen_args.fill_mode,\n",
        "                                   brightness_range=data_gen_args.brightness_range,\n",
        "                                   preprocessing_function=data_gen_args.preprocessing_function)\n",
        "mask_datagen = ImageDataGenerator(rescale=1./255)\n",
        "\n",
        "\n",
        "\n",
        "# Load training images and masks\n",
        "image_generator_train = image_datagen.flow_from_directory(\n",
        "    image_path,  # Path to training image directory\n",
        "    target_size=(128, 128),  # Resize images to match model input size\n",
        "    batch_size=32,\n",
        "    class_mode=None,  # No labels for segmentation\n",
        "    seed=42\n",
        ")\n",
        "mask_generator_train = mask_datagen.flow_from_directory(\n",
        "    mask_path,  # Path to masks\n",
        "    target_size=(128, 128),\n",
        "    batch_size=32,\n",
        "    color_mode='grayscale',  # Ensure masks are single-channel\n",
        "    class_mode=None,\n",
        "    seed=42\n",
        ")\n",
        "\n",
        "\n",
        "\n",
        "# Check the shape of the output from the generators\n",
        "# Should print the shape of image and mask batches\n",
        "images, masks = next(zip(image_generator_train, mask_generator_train))\n",
        "print(\"Image shape:\", images.shape)  # (batch_size, 128, 128, 3)\n",
        "print(\"Mask shape:\", masks.shape)  # (batch_size, 128, 128, 1)\n",
        "\n",
        "# Combine image and mask generators for segmentation\n",
        "train_generator = zip(image_generator_train, mask_generator_train)"
      ]
    },
    {
      "cell_type": "code",
      "execution_count": 15,
      "metadata": {
        "colab": {
          "base_uri": "https://localhost:8080/"
        },
        "id": "-YDpVmT2WC0C",
        "outputId": "0a80b027-7bb3-4ac0-c0c2-ab701c801ebe"
      },
      "outputs": [
        {
          "output_type": "stream",
          "name": "stdout",
          "text": [
            "Shape of images: (32, 128, 128, 3)\n",
            "Shape of masks: (32, 128, 128, 1)\n"
          ]
        }
      ],
      "source": [
        "# Print the first batch of images and masks to verify compatibility\n",
        "images, masks = next(train_generator)\n",
        "print(\"Shape of images:\", images.shape)  # Should be (batch_size, 128, 128, 3)\n",
        "print(\"Shape of masks:\", masks.shape)  # Should be (batch_size, 128, 128, 1)"
      ]
    },
    {
      "cell_type": "code",
      "execution_count": 16,
      "metadata": {
        "colab": {
          "base_uri": "https://localhost:8080/"
        },
        "id": "rZCP1sz6WMF3",
        "outputId": "0c641bb6-ee33-42a5-fa1c-f04c0ba256d8"
      },
      "outputs": [
        {
          "output_type": "stream",
          "name": "stdout",
          "text": [
            "\u001b[1m21/21\u001b[0m \u001b[32m━━━━━━━━━━━━━━━━━━━━\u001b[0m\u001b[37m\u001b[0m \u001b[1m39s\u001b[0m 2s/step\n"
          ]
        }
      ],
      "source": [
        "# Initialize ResNet-50 model for feature extraction\n",
        "from keras.applications import ResNet50\n",
        "from keras.models import Model\n",
        "from keras.layers import GlobalAveragePooling2D\n",
        "# Change input_shape to (128, 128, 3)\n",
        "base_model = ResNet50(include_top=False, weights='imagenet', input_shape=(128, 128, 3))\n",
        "\n",
        "# Adding custom layers for feature extraction\n",
        "x = base_model.output\n",
        "x = GlobalAveragePooling2D()(x)\n",
        "x = Dense(1024, activation='relu')(x)  # Additional fully connected layer\n",
        "\n",
        "# Final model for feature extraction\n",
        "feature_extraction_model = Model(inputs=base_model.input, outputs=x)\n",
        "\n",
        "# Freeze ResNet-50 layers for transfer learning\n",
        "for layer in base_model.layers:\n",
        "    layer.trainable = False\n",
        "\n",
        "# Extract features\n",
        "# Changed line: Using 'feature_extraction_model' instead of 'resnet_model'\n",
        "X_train_features = feature_extraction_model.predict(X_train)"
      ]
    },
    {
      "cell_type": "code",
      "execution_count": 17,
      "metadata": {
        "id": "9g70tQGhWQ_i"
      },
      "outputs": [],
      "source": [
        "import tensorflow as tf\n",
        "from tensorflow import keras\n",
        "from tensorflow.keras import layers\n",
        "import numpy as np\n",
        "from keras.callbacks import ReduceLROnPlateau, EarlyStopping, ModelCheckpoint\n",
        "from keras.utils import to_categorical"
      ]
    },
    {
      "cell_type": "code",
      "execution_count": 18,
      "metadata": {
        "id": "DpRsyjVUWj-t"
      },
      "outputs": [],
      "source": [
        "from tensorflow.keras.layers import Conv2D, Activation, Multiply, Add\n",
        "\n",
        "def attention_block(x, gating, inter_channels):\n",
        "    # 1x1 Conv for the input tensor\n",
        "    theta_x = Conv2D(inter_channels, (1, 1), strides=(1, 1), padding='same')(x)\n",
        "\n",
        "    # 1x1 Conv for the gating tensor\n",
        "    phi_g = Conv2D(inter_channels, (1, 1), strides=(1, 1), padding='same')(gating)\n",
        "\n",
        "    # Sum the two feature maps\n",
        "    concat_xg = Add()([theta_x, phi_g])\n",
        "    concat_xg = Activation('relu')(concat_xg)\n",
        "\n",
        "    # 1x1 Conv to reduce dimensionality\n",
        "    psi = Conv2D(1, (1, 1), strides=(1, 1), padding='same')(concat_xg)\n",
        "    psi = Activation('sigmoid')(psi)\n",
        "\n",
        "    # Multiply attention map with the original input\n",
        "    att_out = Multiply()([x, psi])\n",
        "    return att_out\n"
      ]
    },
    {
      "cell_type": "code",
      "execution_count": 19,
      "metadata": {
        "id": "qnfHD7gFWrSG"
      },
      "outputs": [],
      "source": [
        "from keras.models import Model\n",
        "from keras.layers import Conv2D, UpSampling2D, Input, BatchNormalization, Activation, Reshape, MaxPooling2D\n",
        "# Ensure 'concatenate' is imported correctly\n",
        "from keras.layers import concatenate  # or 'from tensorflow.keras.layers import concatenate'\n",
        "\n",
        "\n",
        "\n",
        "\n",
        "def att_unet(input_size=(128, 128, 3), num_classes=7): # Assuming 7 classes in Herlev dataset\n",
        "    inputs = Input(input_size)\n",
        "\n",
        "    # Encoder\n",
        "    conv1 = Conv2D(64, (3, 3), activation='relu', padding='same')(inputs)\n",
        "    conv1 = Conv2D(64, (3, 3), activation='relu', padding='same')(conv1)\n",
        "    pool1 = MaxPooling2D(pool_size=(2, 2))(conv1)\n",
        "\n",
        "    conv2 = Conv2D(128, (3, 3), activation='relu', padding='same')(pool1)\n",
        "    conv2 = Conv2D(128, (3, 3), activation='relu', padding='same')(conv2)\n",
        "    pool2 = MaxPooling2D(pool_size=(2, 2))(conv2)\n",
        "\n",
        "    # Bottleneck\n",
        "    conv3 = Conv2D(256, (3, 3), activation='relu', padding='same')(pool2)\n",
        "    conv3 = Conv2D(256, (3, 3), activation='relu', padding='same')(conv3)\n",
        "\n",
        "    # Decoder\n",
        "    up4 = UpSampling2D(size=(2, 2))(conv3)\n",
        "    att4 = attention_block(conv2, up4, 128)\n",
        "    # Pass the list of tensors to concatenate directly, with axis as a keyword argument\n",
        "    concat4 = concatenate([att4, up4], axis=3)\n",
        "    conv4 = Conv2D(128, (3, 3), activation='relu', padding='same')(concat4)\n",
        "    conv4 = Conv2D(128, (3, 3), activation='relu', padding='same')(conv4)\n",
        "\n",
        "    up5 = UpSampling2D(size=(2, 2))(conv4)\n",
        "    att5 = attention_block(conv1, up5, 64)\n",
        "    # Pass the list of tensors to concatenate directly, with axis as a keyword argument\n",
        "    concat5 = concatenate([att5, up5], axis=3)\n",
        "    conv5 = Conv2D(64, (3, 3), activation='relu', padding='same')(concat5)\n",
        "    conv5 = Conv2D(64, (3, 3), activation='relu', padding='same')(conv5)\n",
        "\n",
        "    # Output layer - Multi-class\n",
        "    outputs = Conv2D(num_classes, (1, 1), activation='softmax')(conv5)  # 'softmax' for multi-class\n",
        "\n",
        "    model = Model(inputs=[inputs], outputs=[outputs])\n",
        "    return model"
      ]
    },
    {
      "cell_type": "code",
      "execution_count": 20,
      "metadata": {
        "id": "PnmpIJyaWwaM"
      },
      "outputs": [],
      "source": [
        "# Now, in your training code:\n",
        "from keras.callbacks import ReduceLROnPlateau, EarlyStopping, ModelCheckpoint\n",
        "\n",
        "reduce_lr = ReduceLROnPlateau(monitor='loss', factor=0.5, patience=5, min_lr=1e-6)\n",
        "early_stopping = EarlyStopping(monitor='loss', patience=10, restore_best_weights=True)\n",
        "# Change the filepath to end with '.keras' or set save_weights_only=True\n",
        "model_checkpoint = ModelCheckpoint('best_model_herlev.keras', save_best_only=True)\n"
      ]
    },
    {
      "cell_type": "code",
      "execution_count": 21,
      "metadata": {
        "id": "w8_EqmYPW0cr"
      },
      "outputs": [],
      "source": [
        "import tensorflow as tf\n",
        "\n",
        "def combine_generators(image_generator, mask_generator):\n",
        "    \"\"\"Combines image and mask generators into a single generator,\n",
        "       and one-hot encodes the masks.\"\"\"\n",
        "    # Perform one-hot encoding outside the loop\n",
        "    num_classes = 7  # Assuming you have 7 classes\n",
        "    while True:  # Add this loop for continuous generation of batches\n",
        "        for image_batch, mask_batch in zip(image_generator, mask_generator):\n",
        "            mask_batch_encoded = tf.keras.utils.to_categorical(mask_batch, num_classes=num_classes)\n",
        "            yield image_batch, mask_batch_encoded\n",
        "    # Explicitly return None when the loop is broken to handle cases where data runs out.\n",
        "    # This should not be reached if the loop is correctly structured but it can improve troubleshooting.\n",
        "    return None"
      ]
    },
    {
      "cell_type": "code",
      "execution_count": 22,
      "metadata": {
        "id": "eLUwEMkHW4w2"
      },
      "outputs": [],
      "source": [
        "train_generator_combined = combine_generators(image_generator_train, mask_generator_train)\n"
      ]
    },
    {
      "cell_type": "code",
      "execution_count": 23,
      "metadata": {
        "id": "BJLIhw_UW8zi"
      },
      "outputs": [],
      "source": [
        "# Instantiate the model\n",
        "model = att_unet(input_size=(128, 128, 3))\n",
        "\n",
        "# Compile the model with categorical cross-entropy loss for multi class segmentation\n",
        "model.compile(optimizer='adam', loss='categorical_crossentropy', metrics=['accuracy'])"
      ]
    },
    {
      "cell_type": "code",
      "execution_count": null,
      "metadata": {
        "colab": {
          "base_uri": "https://localhost:8080/"
        },
        "id": "kiDRnGysXAIc",
        "outputId": "d9ee9c3d-dacf-4d6e-b341-033199a04e8f"
      },
      "outputs": [
        {
          "output_type": "stream",
          "name": "stdout",
          "text": [
            "Epoch 1/25\n",
            "\u001b[1m21/21\u001b[0m \u001b[32m━━━━━━━━━━━━━━━━━━━━\u001b[0m\u001b[37m\u001b[0m \u001b[1m746s\u001b[0m 35s/step - accuracy: 0.8306 - loss: 0.7415 - learning_rate: 0.0010\n",
            "Epoch 2/25\n"
          ]
        },
        {
          "output_type": "stream",
          "name": "stderr",
          "text": [
            "/usr/local/lib/python3.10/dist-packages/keras/src/callbacks/model_checkpoint.py:206: UserWarning: Can save best model only with val_loss available, skipping.\n",
            "  self._save_model(epoch=epoch, batch=None, logs=logs)\n"
          ]
        },
        {
          "output_type": "stream",
          "name": "stdout",
          "text": [
            "\u001b[1m21/21\u001b[0m \u001b[32m━━━━━━━━━━━━━━━━━━━━\u001b[0m\u001b[37m\u001b[0m \u001b[1m735s\u001b[0m 35s/step - accuracy: 0.9991 - loss: 0.0304 - learning_rate: 0.0010\n",
            "Epoch 3/25\n",
            "\u001b[1m21/21\u001b[0m \u001b[32m━━━━━━━━━━━━━━━━━━━━\u001b[0m\u001b[37m\u001b[0m \u001b[1m737s\u001b[0m 35s/step - accuracy: 0.9990 - loss: 0.0181 - learning_rate: 0.0010\n",
            "Epoch 4/25\n",
            "\u001b[1m21/21\u001b[0m \u001b[32m━━━━━━━━━━━━━━━━━━━━\u001b[0m\u001b[37m\u001b[0m \u001b[1m735s\u001b[0m 35s/step - accuracy: 0.9989 - loss: 0.0221 - learning_rate: 0.0010\n",
            "Epoch 5/25\n",
            "\u001b[1m21/21\u001b[0m \u001b[32m━━━━━━━━━━━━━━━━━━━━\u001b[0m\u001b[37m\u001b[0m \u001b[1m737s\u001b[0m 35s/step - accuracy: 0.9996 - loss: 0.0082 - learning_rate: 0.0010\n",
            "Epoch 6/25\n",
            "\u001b[1m21/21\u001b[0m \u001b[32m━━━━━━━━━━━━━━━━━━━━\u001b[0m\u001b[37m\u001b[0m \u001b[1m736s\u001b[0m 35s/step - accuracy: 0.9987 - loss: 0.0148 - learning_rate: 0.0010\n",
            "Epoch 7/25\n",
            "\u001b[1m21/21\u001b[0m \u001b[32m━━━━━━━━━━━━━━━━━━━━\u001b[0m\u001b[37m\u001b[0m \u001b[1m735s\u001b[0m 35s/step - accuracy: 0.9985 - loss: 0.0192 - learning_rate: 0.0010\n",
            "Epoch 8/25\n"
          ]
        }
      ],
      "source": [
        "history=model.fit(train_generator_combined , epochs=25, steps_per_epoch=len(image_generator_train), callbacks=[reduce_lr, early_stopping, model_checkpoint]) #"
      ]
    }
  ],
  "metadata": {
    "colab": {
      "provenance": [],
      "authorship_tag": "ABX9TyPMvDOgJVc1FIxfuezioeMe",
      "include_colab_link": true
    },
    "kernelspec": {
      "display_name": "Python 3",
      "name": "python3"
    },
    "language_info": {
      "name": "python"
    }
  },
  "nbformat": 4,
  "nbformat_minor": 0
}